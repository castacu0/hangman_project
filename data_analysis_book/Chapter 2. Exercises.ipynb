{
 "cells": [
  {
   "cell_type": "markdown",
   "id": "cbe5adaa",
   "metadata": {},
   "source": [
    "# Chapter 2: Jupyter Basics to work with"
   ]
  },
  {
   "cell_type": "code",
   "execution_count": 1,
   "id": "d34d1a23",
   "metadata": {},
   "outputs": [
    {
     "data": {
      "text/plain": [
       "230"
      ]
     },
     "execution_count": 1,
     "metadata": {},
     "output_type": "execute_result"
    }
   ],
   "source": [
    "l = 230\n",
    "l"
   ]
  },
  {
   "cell_type": "code",
   "execution_count": 2,
   "id": "a1390237",
   "metadata": {},
   "outputs": [
    {
     "data": {
      "text/plain": [
       "{0: 0.3236665024254697,\n",
       " 1: 0.3223987334324601,\n",
       " 2: 0.622813166465067,\n",
       " 3: -0.5247084471944545,\n",
       " 4: 0.42271042087464217,\n",
       " 5: 1.490437859842501,\n",
       " 6: -0.31815274307869806,\n",
       " 7: 0.8114733040991114}"
      ]
     },
     "execution_count": 2,
     "metadata": {},
     "output_type": "execute_result"
    }
   ],
   "source": [
    "#Trying the Jupyter kernel or IPYTHON shell\n",
    "import numpy as np\n",
    "dataX ={i : np.random.randn()  for i in range(8)}\n",
    "dataX"
   ]
  },
  {
   "cell_type": "code",
   "execution_count": 3,
   "id": "84232b36",
   "metadata": {},
   "outputs": [
    {
     "data": {
      "text/plain": [
       "[1, 10, 'A', 'O']"
      ]
     },
     "execution_count": 3,
     "metadata": {},
     "output_type": "execute_result"
    }
   ],
   "source": [
    "#Tab completition\n",
    "listX = [1,10,\"A\"]\n",
    "listX.append(\"O\")\n",
    "listX"
   ]
  },
  {
   "cell_type": "code",
   "execution_count": 4,
   "id": "d776da2c",
   "metadata": {},
   "outputs": [
    {
     "data": {
      "text/plain": [
       "datetime.date"
      ]
     },
     "execution_count": 4,
     "metadata": {},
     "output_type": "execute_result"
    }
   ],
   "source": [
    "#Tab completition\n",
    "\n",
    "import datetime\n",
    "datetime.date\n"
   ]
  },
  {
   "cell_type": "code",
   "execution_count": 5,
   "id": "27882ad2",
   "metadata": {},
   "outputs": [
    {
     "data": {
      "text/plain": [
       "'C:\\\\Users\\\\Cesar Castanon\\\\courses\\\\projects_python\\\\data_analysis_book'"
      ]
     },
     "execution_count": 5,
     "metadata": {},
     "output_type": "execute_result"
    }
   ],
   "source": [
    "pwd"
   ]
  },
  {
   "cell_type": "code",
   "execution_count": 6,
   "id": "2b458cab",
   "metadata": {},
   "outputs": [
    {
     "name": "stdout",
     "output_type": "stream",
     "text": [
      "1.0\n"
     ]
    }
   ],
   "source": [
    "#Using %load to charge a file found in the same W directory\n",
    "\n",
    "# %load ipython_script_test.py\n",
    "def functionX(x, y, z):\n",
    "    return (x + y) / z\n",
    "  \n",
    "a = 5\n",
    "b = 25\n",
    "c = 30\n",
    "\n",
    "result = functionX(a, b, c)\n",
    "print(result)"
   ]
  },
  {
   "cell_type": "code",
   "execution_count": 7,
   "id": "e1438db8",
   "metadata": {},
   "outputs": [
    {
     "name": "stdout",
     "output_type": "stream",
     "text": [
      "house2\n"
     ]
    }
   ],
   "source": [
    "#Using introspection\n",
    "listY = [2,20,\"B\"]\n",
    "listY?\n",
    "print(\"house\", \"2\", sep=\"\")\n",
    "#print?"
   ]
  },
  {
   "cell_type": "code",
   "execution_count": 8,
   "id": "a30ff315",
   "metadata": {},
   "outputs": [],
   "source": [
    "#Introspection\n",
    "\n",
    "def add_numbers(a, b):\n",
    "    \"\"\"\n",
    "    Add two numbers together\n",
    "\n",
    "    Returns\n",
    "    -------\n",
    "    the_sum : type of arguments\n",
    "    \"\"\"\n",
    "    return a + b\n",
    "\n",
    "#? shows me its signature and docstring"
   ]
  },
  {
   "cell_type": "code",
   "execution_count": 9,
   "id": "35520a8c",
   "metadata": {},
   "outputs": [],
   "source": [
    "add_numbers?\n",
    "# Signature: add_numbers(a, b)\n",
    "# Docstring:\n",
    "# Add two numbers together\n",
    "\n",
    "# Returns\n",
    "# -------\n",
    "# the_sum : type of arguments\n",
    "# File:      c:\\users\\cesar castanon\\courses\\projects_python\\data_analysis_book\\<ipython-input-15-f75465cfecc4>\n",
    "# Type:      functionSignature: add_numbers(a, b)"
   ]
  },
  {
   "cell_type": "code",
   "execution_count": 10,
   "id": "e6fdb36e",
   "metadata": {},
   "outputs": [],
   "source": [
    "add_numbers??\n",
    "#Way more detailed"
   ]
  },
  {
   "cell_type": "code",
   "execution_count": 11,
   "id": "37f3388a",
   "metadata": {},
   "outputs": [],
   "source": [
    "#Using TAB and ?\n",
    "\n",
    "np.*load*?\n",
    "# np.__loader__\n",
    "# np.load\n",
    "# np.loads\n",
    "# np.loadtxt"
   ]
  },
  {
   "cell_type": "code",
   "execution_count": 1,
   "id": "3c565601",
   "metadata": {},
   "outputs": [],
   "source": [
    "#Using TAB and ?\n",
    "\n",
    "np.*add*?\n"
   ]
  },
  {
   "cell_type": "code",
   "execution_count": 3,
   "id": "09492900",
   "metadata": {},
   "outputs": [],
   "source": [
    "%quickref"
   ]
  },
  {
   "cell_type": "code",
   "execution_count": 4,
   "id": "9671b02e",
   "metadata": {},
   "outputs": [
    {
     "name": "stdout",
     "output_type": "stream",
     "text": [
      "Available kernels:\n",
      "  python3    C:\\Users\\Cesar Castanon\\anaconda3\\share\\jupyter\\kernels\\python3\n"
     ]
    }
   ],
   "source": [
    "!jupyter kernelspec list\n",
    "#!which python"
   ]
  }
 ],
 "metadata": {
  "kernelspec": {
   "display_name": "Python 3",
   "language": "python",
   "name": "python3"
  },
  "language_info": {
   "codemirror_mode": {
    "name": "ipython",
    "version": 3
   },
   "file_extension": ".py",
   "mimetype": "text/x-python",
   "name": "python",
   "nbconvert_exporter": "python",
   "pygments_lexer": "ipython3",
   "version": "3.8.5"
  }
 },
 "nbformat": 4,
 "nbformat_minor": 5
}
