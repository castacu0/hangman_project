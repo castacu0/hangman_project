{
 "cells": [
  {
   "cell_type": "code",
   "execution_count": null,
   "id": "80641a8e",
   "metadata": {},
   "outputs": [],
   "source": [
    "Make text ITALIC: *Italic*\n",
    "Make text BOLD: **Bold**\n",
    "List item as a bullet: dash and space -\n",
    "List item as a number: Simple as number and dot 1.\n",
    "Indenting text: Greater than and space >\n",
    "Inline code span: Back quotation mark \" ` \"\n",
    "Block of code: Triple back quotation marks \" ``` \"\n",
    "Link a section: [Title of Section](#title-of-section)\n",
    "Hyperlink: [Text](URL)"
   ]
  },
  {
   "cell_type": "code",
   "execution_count": null,
   "id": "a55ce936",
   "metadata": {},
   "outputs": [],
   "source": [
    "Tricks_1: #https://www.datacamp.com/community/tutorials/markdown-in-jupyter-notebook\n",
    "Tricks_2: https://stackoverflow.com/questions/35616486/embed-code-for-illustration-in-jupyter"
   ]
  }
 ],
 "metadata": {
  "kernelspec": {
   "display_name": "Python 3",
   "language": "python",
   "name": "python3"
  },
  "language_info": {
   "codemirror_mode": {
    "name": "ipython",
    "version": 3
   },
   "file_extension": ".py",
   "mimetype": "text/x-python",
   "name": "python",
   "nbconvert_exporter": "python",
   "pygments_lexer": "ipython3",
   "version": "3.8.5"
  }
 },
 "nbformat": 4,
 "nbformat_minor": 5
}
